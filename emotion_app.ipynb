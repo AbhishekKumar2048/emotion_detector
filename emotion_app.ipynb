{
 "cells": [
  {
   "cell_type": "code",
   "execution_count": null,
   "id": "6e6773a9-54fa-4616-af7c-8ad93cc403d0",
   "metadata": {},
   "outputs": [],
   "source": [
    "from fastapi import FastAPI, UploadFile, File, HTTPException, Request\n",
    "from fastapi.responses import HTMLResponse, JSONResponse\n",
    "from fastapi.staticfiles import StaticFiles\n",
    "from fastapi.templating import Jinja2Templates\n",
    "from PIL import Image\n",
    "import numpy as np\n",
    "import tensorflow as tf\n",
    "import io\n",
    "import tensorflow as tf\n",
    "from keras.utils import image_dataset_from_directory as dfd\n",
    "import matplotlib.pyplot as plt\n",
    "import pandas as pd\n",
    "from tensorflow.keras.layers import Layer\n",
    "from tensorflow.keras.models import Model\n",
    "import torch\n",
    "from transformers import TFViTModel"
   ]
  },
  {
   "cell_type": "code",
   "execution_count": null,
   "id": "ac964ebe-d395-4d80-8c71-8a208cfac211",
   "metadata": {},
   "outputs": [],
   "source": [
    "print(tf.__version__)\n",
    "print(np.__version__)\n",
    "print(pd.__version__)\n",
    "print(torch.__version__)\n",
    "\n"
   ]
  },
  {
   "cell_type": "code",
   "execution_count": null,
   "id": "08a7f302-de75-48df-b70c-924588f4f23e",
   "metadata": {},
   "outputs": [],
   "source": [
    "vit_model = TFViTModel.from_pretrained(\"google/vit-base-patch16-224-in21k\")\n",
    "\n",
    "from keras.saving import register_keras_serializable\n",
    "@register_keras_serializable()\n",
    "def vit_forward(pixel_values):\n",
    "    return vit_model(pixel_values=pixel_values)[0]\n",
    "\n",
    "# Load model\n",
    "model=tf.keras.models.load_model('vit_wandb_final.keras', custom_objects={'vit_forward': vit_forward})\n",
    "\n",
    "# main.py"
   ]
  },
  {
   "cell_type": "code",
   "execution_count": null,
   "id": "64fd1ad4-bfd1-48fb-bbd9-e95d8364418d",
   "metadata": {},
   "outputs": [],
   "source": [
    "app = FastAPI()\n",
    "\n",
    "# Update with your actual class labels\n",
    "class_names = ['angry','happy','nothing','sad']\n",
    "\n",
    "from datetime import datetime\n",
    "\n",
    "@app.post(\"/predict\")\n",
    "async def predict(file: UploadFile = File(...), _ts: str = str(datetime.utcnow())):\n",
    "    contents = await file.read()\n",
    "    image = Image.open(io.BytesIO(contents)).convert(\"RGB\")\n",
    "\n",
    "    # Match your model's expected input size\n",
    "    image = image.resize((224,224))\n",
    "    img_array = np.array(image)\n",
    "    img_array = np.expand_dims(img_array, axis=0)\n",
    "\n",
    "    # Prediction\n",
    "    predictions = model.predict(img_array)\n",
    "    print(\"Predictions:\", predictions)\n",
    "    predicted_class = class_names[np.argmax(predictions)]\n",
    "    confidence = float(np.max(predictions))\n",
    "\n",
    "    return {\n",
    "        \"filename\": file.filename,\n",
    "        \"prediction\": predicted_class,\n",
    "        \"confidence\": confidence\n",
    "    }"
   ]
  },
  {
   "cell_type": "code",
   "execution_count": null,
   "id": "ac9671ad-6945-473a-805c-449238058def",
   "metadata": {},
   "outputs": [],
   "source": [
    "import nest_asyncio\n",
    "import uvicorn\n",
    "\n",
    "# Patch asyncio to allow nested loops\n",
    "nest_asyncio.apply()"
   ]
  },
  {
   "cell_type": "code",
   "execution_count": null,
   "id": "e042d370-3e06-4706-aea2-165c8f60b74e",
   "metadata": {},
   "outputs": [],
   "source": [
    "!pip freeze > requirements.txt"
   ]
  },
  {
   "cell_type": "code",
   "execution_count": null,
   "id": "e7a1b7b1-d48c-49cd-ab9d-1cdcd775c05c",
   "metadata": {},
   "outputs": [],
   "source": [
    "!git init\n",
    "!git config --global user.name \"Abhishek\"\n",
    "!git config --global user.email \"abhishek.k2048@outlook.com\"\n"
   ]
  },
  {
   "cell_type": "code",
   "execution_count": null,
   "id": "5d6bbb79-06ce-464a-99ed-af53bfd79b83",
   "metadata": {},
   "outputs": [],
   "source": [
    "!git add ."
   ]
  },
  {
   "cell_type": "code",
   "execution_count": null,
   "id": "909bd1f7-c7c3-45c3-9cbb-0640d8bcb468",
   "metadata": {},
   "outputs": [],
   "source": [
    "!git commit -m \"Initial commit\""
   ]
  },
  {
   "cell_type": "code",
   "execution_count": null,
   "id": "991bbc0b-c94a-4372-b3a6-6fdcb52128f2",
   "metadata": {},
   "outputs": [],
   "source": [
    "!git remote set-url origin https://github.com/AbhishekKumar2048/emotion_detector.git"
   ]
  },
  {
   "cell_type": "code",
   "execution_count": null,
   "id": "a040cc0a-5277-41c7-adbf-6bfdcde211cf",
   "metadata": {},
   "outputs": [],
   "source": [
    "!git branch -M main\n",
    "!git push -u origin main"
   ]
  },
  {
   "cell_type": "code",
   "execution_count": null,
   "id": "985be70e-eac1-4211-bc4e-0d70c1826e6e",
   "metadata": {},
   "outputs": [],
   "source": [
    "#uvicorn.run(app, host=\"127.0.0.1\", port=10000)"
   ]
  },
  {
   "cell_type": "code",
   "execution_count": null,
   "id": "880e229f-7eeb-457a-acd6-adced997c760",
   "metadata": {},
   "outputs": [],
   "source": []
  }
 ],
 "metadata": {
  "kernelspec": {
   "display_name": "Python 3 (ipykernel)",
   "language": "python",
   "name": "python3"
  },
  "language_info": {
   "codemirror_mode": {
    "name": "ipython",
    "version": 3
   },
   "file_extension": ".py",
   "mimetype": "text/x-python",
   "name": "python",
   "nbconvert_exporter": "python",
   "pygments_lexer": "ipython3",
   "version": "3.12.7"
  }
 },
 "nbformat": 4,
 "nbformat_minor": 5
}
