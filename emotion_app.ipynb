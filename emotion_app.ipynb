{
 "cells": [
  {
   "cell_type": "code",
   "execution_count": 1,
   "id": "6e6773a9-54fa-4616-af7c-8ad93cc403d0",
   "metadata": {},
   "outputs": [
    {
     "name": "stdout",
     "output_type": "stream",
     "text": [
      "WARNING:tensorflow:From C:\\Users\\kabhi\\AppData\\Local\\Programs\\Python\\Python312\\Lib\\site-packages\\tf_keras\\src\\losses.py:2976: The name tf.losses.sparse_softmax_cross_entropy is deprecated. Please use tf.compat.v1.losses.sparse_softmax_cross_entropy instead.\n",
      "\n"
     ]
    }
   ],
   "source": [
    "from fastapi import FastAPI, UploadFile, File, HTTPException, Request\n",
    "from fastapi.responses import HTMLResponse, JSONResponse\n",
    "from fastapi.staticfiles import StaticFiles\n",
    "from fastapi.templating import Jinja2Templates\n",
    "from PIL import Image\n",
    "import numpy as np\n",
    "import tensorflow as tf\n",
    "import io\n",
    "import tensorflow as tf\n",
    "from keras.utils import image_dataset_from_directory as dfd\n",
    "import matplotlib.pyplot as plt\n",
    "import pandas as pd\n",
    "from tensorflow.keras.layers import Layer\n",
    "from tensorflow.keras.models import Model\n",
    "import torch\n",
    "from transformers import TFViTModel"
   ]
  },
  {
   "cell_type": "code",
   "execution_count": 2,
   "id": "08a7f302-de75-48df-b70c-924588f4f23e",
   "metadata": {},
   "outputs": [
    {
     "name": "stdout",
     "output_type": "stream",
     "text": [
      "WARNING:tensorflow:From C:\\Users\\kabhi\\AppData\\Local\\Programs\\Python\\Python312\\Lib\\site-packages\\tf_keras\\src\\backend.py:873: The name tf.get_default_graph is deprecated. Please use tf.compat.v1.get_default_graph instead.\n",
      "\n"
     ]
    },
    {
     "name": "stderr",
     "output_type": "stream",
     "text": [
      "TensorFlow and JAX classes are deprecated and will be removed in Transformers v5. We recommend migrating to PyTorch classes or pinning your version of Transformers.\n",
      "All PyTorch model weights were used when initializing TFViTModel.\n",
      "\n",
      "All the weights of TFViTModel were initialized from the PyTorch model.\n",
      "If your task is similar to the task the model of the checkpoint was trained on, you can already use TFViTModel for predictions without further training.\n"
     ]
    },
    {
     "name": "stdout",
     "output_type": "stream",
     "text": [
      "WARNING:tensorflow:From C:\\Users\\kabhi\\AppData\\Local\\Programs\\Python\\Python312\\Lib\\site-packages\\keras\\src\\backend\\tensorflow\\core.py:219: The name tf.placeholder is deprecated. Please use tf.compat.v1.placeholder instead.\n",
      "\n"
     ]
    }
   ],
   "source": [
    "vit_model = TFViTModel.from_pretrained(\"google/vit-base-patch16-224-in21k\")\n",
    "\n",
    "from keras.saving import register_keras_serializable\n",
    "@register_keras_serializable()\n",
    "def vit_forward(pixel_values):\n",
    "    return vit_model(pixel_values=pixel_values)[0]\n",
    "\n",
    "# Load model\n",
    "model=tf.keras.models.load_model('vit_wandb_final.keras', custom_objects={'vit_forward': vit_forward})\n",
    "\n",
    "# main.py"
   ]
  },
  {
   "cell_type": "code",
   "execution_count": 3,
   "id": "64fd1ad4-bfd1-48fb-bbd9-e95d8364418d",
   "metadata": {},
   "outputs": [
    {
     "name": "stderr",
     "output_type": "stream",
     "text": [
      "C:\\Users\\kabhi\\AppData\\Local\\Temp\\ipykernel_5972\\1466628124.py:9: DeprecationWarning: datetime.datetime.utcnow() is deprecated and scheduled for removal in a future version. Use timezone-aware objects to represent datetimes in UTC: datetime.datetime.now(datetime.UTC).\n",
      "  async def predict(file: UploadFile = File(...), _ts: str = str(datetime.utcnow())):\n"
     ]
    }
   ],
   "source": [
    "app = FastAPI()\n",
    "\n",
    "# Update with your actual class labels\n",
    "class_names = ['angry','happy','nothing','sad']\n",
    "\n",
    "from datetime import datetime\n",
    "\n",
    "@app.post(\"/predict\")\n",
    "async def predict(file: UploadFile = File(...), _ts: str = str(datetime.utcnow())):\n",
    "    contents = await file.read()\n",
    "    image = Image.open(io.BytesIO(contents)).convert(\"RGB\")\n",
    "\n",
    "    # Match your model's expected input size\n",
    "    image = image.resize((224,224))\n",
    "    img_array = np.array(image)\n",
    "    img_array = np.expand_dims(img_array, axis=0)\n",
    "\n",
    "    # Prediction\n",
    "    predictions = model.predict(img_array)\n",
    "    print(\"Predictions:\", predictions)\n",
    "    predicted_class = class_names[np.argmax(predictions)]\n",
    "    confidence = float(np.max(predictions))\n",
    "\n",
    "    return {\n",
    "        \"filename\": file.filename,\n",
    "        \"prediction\": predicted_class,\n",
    "        \"confidence\": confidence\n",
    "    }"
   ]
  },
  {
   "cell_type": "code",
   "execution_count": 4,
   "id": "ac9671ad-6945-473a-805c-449238058def",
   "metadata": {},
   "outputs": [],
   "source": [
    "import nest_asyncio\n",
    "import uvicorn\n",
    "\n",
    "# Patch asyncio to allow nested loops\n",
    "nest_asyncio.apply()"
   ]
  },
  {
   "cell_type": "code",
   "execution_count": 6,
   "id": "e042d370-3e06-4706-aea2-165c8f60b74e",
   "metadata": {},
   "outputs": [
    {
     "name": "stderr",
     "output_type": "stream",
     "text": [
      "WARNING: Ignoring invalid distribution ~upyterlab (C:\\Users\\kabhi\\AppData\\Local\\Programs\\Python\\Python312\\Lib\\site-packages)\n"
     ]
    }
   ],
   "source": [
    "!pip freeze > requirements.txt"
   ]
  },
  {
   "cell_type": "code",
   "execution_count": 7,
   "id": "e7a1b7b1-d48c-49cd-ab9d-1cdcd775c05c",
   "metadata": {},
   "outputs": [
    {
     "name": "stdout",
     "output_type": "stream",
     "text": [
      "Initialized empty Git repository in E:/projects/emotion_app/.git/\n"
     ]
    }
   ],
   "source": [
    "!git init\n",
    "!git config --global user.name \"Abhishek\"\n",
    "!git config --global user.email \"abhishek.k2048@outlook.com\"\n"
   ]
  },
  {
   "cell_type": "code",
   "execution_count": 8,
   "id": "5d6bbb79-06ce-464a-99ed-af53bfd79b83",
   "metadata": {},
   "outputs": [
    {
     "name": "stderr",
     "output_type": "stream",
     "text": [
      "warning: in the working copy of '.idea/inspectionProfiles/profiles_settings.xml', LF will be replaced by CRLF the next time Git touches it\n",
      "warning: in the working copy of '.ipynb_checkpoints/emotion_app-Copy1-checkpoint.ipynb', LF will be replaced by CRLF the next time Git touches it\n",
      "warning: in the working copy of '.ipynb_checkpoints/emotion_app-checkpoint.ipynb', LF will be replaced by CRLF the next time Git touches it\n",
      "warning: in the working copy of 'emotion_app-Copy1.ipynb', LF will be replaced by CRLF the next time Git touches it\n",
      "warning: in the working copy of 'emotion_app.ipynb', LF will be replaced by CRLF the next time Git touches it\n"
     ]
    }
   ],
   "source": [
    "!git add ."
   ]
  },
  {
   "cell_type": "code",
   "execution_count": 9,
   "id": "909bd1f7-c7c3-45c3-9cbb-0640d8bcb468",
   "metadata": {},
   "outputs": [
    {
     "name": "stdout",
     "output_type": "stream",
     "text": [
      "[master (root-commit) 9b10ac6] Initial commit\n",
      " 26 files changed, 1454 insertions(+)\n",
      " create mode 100644 .idea/.gitignore\n",
      " create mode 100644 .idea/emotion_app.iml\n",
      " create mode 100644 .idea/inspectionProfiles/profiles_settings.xml\n",
      " create mode 100644 .idea/misc.xml\n",
      " create mode 100644 .idea/modules.xml\n",
      " create mode 100644 .ipynb_checkpoints/12-checkpoint.jpg\n",
      " create mode 100644 .ipynb_checkpoints/emotion_app-Copy1-checkpoint.ipynb\n",
      " create mode 100644 .ipynb_checkpoints/emotion_app-checkpoint.ipynb\n",
      " create mode 100644 .ipynb_checkpoints/main-checkpoint.py\n",
      " create mode 100644 .ipynb_checkpoints/render-checkpoint.yaml\n",
      " create mode 100644 .ipynb_checkpoints/requirements-checkpoint.txt\n",
      " create mode 100644 12.jpg\n",
      " create mode 100644 32.jpg\n",
      " create mode 100644 70.jpg\n",
      " create mode 100644 emotion_app-Copy1.ipynb\n",
      " create mode 100644 emotion_app.ipynb\n",
      " create mode 100644 main.py\n",
      " create mode 100644 project str.txt\n",
      " create mode 100644 render.yaml\n",
      " create mode 100644 requirements.txt\n",
      " create mode 100644 static/.ipynb_checkpoints/style-checkpoint.css\n",
      " create mode 100644 static/style.css\n",
      " create mode 100644 templates/.ipynb_checkpoints/index-checkpoint.html\n",
      " create mode 100644 templates/index.html\n",
      " create mode 100644 vit_wandb_final.keras\n",
      " create mode 100644 vit_wandb_trial.keras\n"
     ]
    }
   ],
   "source": [
    "!git commit -m \"Initial commit\""
   ]
  },
  {
   "cell_type": "code",
   "execution_count": 10,
   "id": "991bbc0b-c94a-4372-b3a6-6fdcb52128f2",
   "metadata": {},
   "outputs": [],
   "source": [
    "!git remote add origin https://github.com/AbhishekKumar2048/emotion_detector.git"
   ]
  },
  {
   "cell_type": "code",
   "execution_count": 11,
   "id": "a040cc0a-5277-41c7-adbf-6bfdcde211cf",
   "metadata": {},
   "outputs": [
    {
     "name": "stderr",
     "output_type": "stream",
     "text": [
      "remote: Repository not found.\n",
      "fatal: repository 'https://github.com/your-username/your-repo.git/' not found\n"
     ]
    }
   ],
   "source": [
    "!git branch -M main\n",
    "!git push -u origin main"
   ]
  }
 ],
 "metadata": {
  "kernelspec": {
   "display_name": "Python 3 (ipykernel)",
   "language": "python",
   "name": "python3"
  },
  "language_info": {
   "codemirror_mode": {
    "name": "ipython",
    "version": 3
   },
   "file_extension": ".py",
   "mimetype": "text/x-python",
   "name": "python",
   "nbconvert_exporter": "python",
   "pygments_lexer": "ipython3",
   "version": "3.12.7"
  }
 },
 "nbformat": 4,
 "nbformat_minor": 5
}
