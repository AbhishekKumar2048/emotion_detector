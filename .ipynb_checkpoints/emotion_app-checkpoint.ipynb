{
 "cells": [
  {
   "cell_type": "code",
   "execution_count": 1,
   "id": "9c2bc43f-8333-4fe1-95db-9bb7bd25945e",
   "metadata": {},
   "outputs": [
    {
     "name": "stdout",
     "output_type": "stream",
     "text": [
      "WARNING:tensorflow:From C:\\Users\\kabhi\\AppData\\Local\\Programs\\Python\\Python312\\Lib\\site-packages\\tf_keras\\src\\losses.py:2976: The name tf.losses.sparse_softmax_cross_entropy is deprecated. Please use tf.compat.v1.losses.sparse_softmax_cross_entropy instead.\n",
      "\n",
      "WARNING:tensorflow:From C:\\Users\\kabhi\\AppData\\Local\\Programs\\Python\\Python312\\Lib\\site-packages\\tf_keras\\src\\backend.py:873: The name tf.get_default_graph is deprecated. Please use tf.compat.v1.get_default_graph instead.\n",
      "\n"
     ]
    },
    {
     "name": "stderr",
     "output_type": "stream",
     "text": [
      "TensorFlow and JAX classes are deprecated and will be removed in Transformers v5. We recommend migrating to PyTorch classes or pinning your version of Transformers.\n",
      "All PyTorch model weights were used when initializing TFViTModel.\n",
      "\n",
      "All the weights of TFViTModel were initialized from the PyTorch model.\n",
      "If your task is similar to the task the model of the checkpoint was trained on, you can already use TFViTModel for predictions without further training.\n"
     ]
    },
    {
     "name": "stdout",
     "output_type": "stream",
     "text": [
      "WARNING:tensorflow:From C:\\Users\\kabhi\\AppData\\Local\\Programs\\Python\\Python312\\Lib\\site-packages\\keras\\src\\backend\\tensorflow\\core.py:219: The name tf.placeholder is deprecated. Please use tf.compat.v1.placeholder instead.\n",
      "\n"
     ]
    }
   ],
   "source": [
    "from fastapi import FastAPI, UploadFile, File, HTTPException, Request\n",
    "from fastapi.responses import HTMLResponse, JSONResponse\n",
    "from fastapi.staticfiles import StaticFiles\n",
    "from fastapi.templating import Jinja2Templates\n",
    "from PIL import Image\n",
    "import numpy as np\n",
    "import tensorflow as tf\n",
    "import io\n",
    "\n",
    "import tensorflow as tf\n",
    "from keras.utils import image_dataset_from_directory as dfd\n",
    "import matplotlib.pyplot as plt\n",
    "import numpy as np\n",
    "import pickle\n",
    "import pandas as pd\n",
    "import tensorflow as tf\n",
    "import tensorflow as tf\n",
    "from keras.utils import image_dataset_from_directory as dfd\n",
    "import matplotlib.pyplot as plt\n",
    "import numpy as np\n",
    "import pickle\n",
    "import pandas as pd\n",
    "import tensorflow as tf\n",
    "from tensorflow.keras.layers import Layer\n",
    "from tensorflow.keras.models import Model\n",
    "\n",
    "import torch\n",
    "\n",
    "import torch\n",
    "\n",
    "from tensorflow.keras.layers import Layer\n",
    "from tensorflow.keras.models import Model\n",
    "\n",
    "from transformers import TFViTModel\n",
    "vit_model = TFViTModel.from_pretrained(\"google/vit-base-patch16-224-in21k\")\n",
    "\n",
    "from keras.saving import register_keras_serializable\n",
    "@register_keras_serializable()\n",
    "def vit_forward(pixel_values):\n",
    "    return vit_model(pixel_values=pixel_values)[0]\n",
    "\n",
    "# Load model\n",
    "model=tf.keras.models.load_model('vit_wandb_final.keras', custom_objects={'vit_forward': vit_forward})\n",
    "# Define class labels\n",
    "class_labels = ['angry', 'happy', 'sad', 'nothing']\n",
    "\n",
    "# Initialize FastAPI\n",
    "app = FastAPI()\n",
    "\n",
    "# Mount static files and templates\n",
    "app.mount(\"/static\", StaticFiles(directory=\"static\"), name=\"static\")\n",
    "templates = Jinja2Templates(directory=\"templates\")\n",
    "\n",
    "# Image preprocessing function\n",
    "def preprocess_image(image: Image.Image) -> np.ndarray:\n",
    "    image = image.resize((224, 224))  # Resize to match model input\n",
    "    image = image.convert(\"RGB\")\n",
    "    image_array = np.array(image).astype(\"float32\") / 255.0\n",
    "    image_array = np.expand_dims(image_array, axis=0)  # Add batch dimension\n",
    "    return image_array\n",
    "\n",
    "# Serve HTML form\n",
    "@app.get(\"/\", response_class=HTMLResponse)\n",
    "async def homepage(request: Request):\n",
    "    return templates.TemplateResponse(\"index.html\", {\"request\": request, \"result\": None})\n",
    "\n",
    "# Predict route for HTML form\n",
    "@app.post(\"/predict/\")\n",
    "async def predict(request: Request, file: UploadFile = File(...)):\n",
    "    if not file.filename.lower().endswith((\".jpg\", \".jpeg\", \".png\")):\n",
    "        return templates.TemplateResponse(\"index.html\", {\n",
    "            \"request\": request,\n",
    "            \"result\": \"Only .jpg, .jpeg or .png files are allowed.\"\n",
    "        })\n",
    "\n",
    "    try:\n",
    "        contents = await file.read()\n",
    "        image = Image.open(io.BytesIO(contents))\n",
    "        input_tensor = preprocess_image(image)\n",
    "        predictions = model.predict(input_tensor)\n",
    "        predicted_class = class_labels[np.argmax(predictions)]\n",
    "        confidence = float(np.max(predictions))\n",
    "        result = f\"Emotion: {predicted_class} (Confidence: {confidence:.2f})\"\n",
    "    except Exception as e:\n",
    "        result = f\"Error during prediction: {str(e)}\"\n",
    "\n",
    "    return templates.TemplateResponse(\"index.html\", {\"request\": request, \"result\": result})\n",
    "\n",
    "# JSON API route\n",
    "@app.post(\"/api/predict\")\n",
    "async def api_predict(file: UploadFile = File(...)):\n",
    "    if not file.filename.lower().endswith((\".jpg\", \".jpeg\", \".png\")):\n",
    "        raise HTTPException(status_code=400, detail=\"Only .jpg, .jpeg or .png files are supported.\")\n",
    "\n",
    "    try:\n",
    "        contents = await file.read()\n",
    "        image = Image.open(io.BytesIO(contents))\n",
    "        input_tensor = preprocess_image(image)\n",
    "        predictions = model.predict(input_tensor)\n",
    "        predicted_class = class_labels[np.argmax(predictions)]\n",
    "        confidence = float(np.max(predictions))\n",
    "    except Exception as e:\n",
    "        raise HTTPException(status_code=500, detail=f\"Prediction error: {str(e)}\")\n",
    "\n",
    "    return JSONResponse(content={\n",
    "        \"filename\": file.filename,\n",
    "        \"predicted_emotion\": predicted_class,\n",
    "        \"confidence\": round(confidence, 4)\n",
    "    })\n"
   ]
  },
  {
   "cell_type": "code",
   "execution_count": 2,
   "id": "ac9671ad-6945-473a-805c-449238058def",
   "metadata": {},
   "outputs": [],
   "source": [
    "import nest_asyncio\n",
    "import uvicorn\n",
    "\n",
    "# Patch asyncio to allow nested loops\n",
    "nest_asyncio.apply()"
   ]
  },
  {
   "cell_type": "code",
   "execution_count": null,
   "id": "8536e034-8769-476e-a04b-d85b811d8e67",
   "metadata": {},
   "outputs": [
    {
     "name": "stderr",
     "output_type": "stream",
     "text": [
      "INFO:     Started server process [19288]\n",
      "INFO:     Waiting for application startup.\n",
      "INFO:     Application startup complete.\n",
      "INFO:     Uvicorn running on http://127.0.0.1:10000 (Press CTRL+C to quit)\n"
     ]
    },
    {
     "name": "stdout",
     "output_type": "stream",
     "text": [
      "INFO:     127.0.0.1:53757 - \"GET / HTTP/1.1\" 200 OK\n",
      "\u001b[1m1/1\u001b[0m \u001b[32m━━━━━━━━━━━━━━━━━━━━\u001b[0m\u001b[37m\u001b[0m \u001b[1m2s\u001b[0m 2s/step\n",
      "INFO:     127.0.0.1:53759 - \"POST /predict/ HTTP/1.1\" 200 OK\n",
      "\u001b[1m1/1\u001b[0m \u001b[32m━━━━━━━━━━━━━━━━━━━━\u001b[0m\u001b[37m\u001b[0m \u001b[1m0s\u001b[0m 176ms/step\n",
      "INFO:     127.0.0.1:53761 - \"POST /predict/ HTTP/1.1\" 200 OK\n"
     ]
    }
   ],
   "source": [
    "uvicorn.run(app, host=\"127.0.0.1\", port=10000)"
   ]
  },
  {
   "cell_type": "code",
   "execution_count": null,
   "id": "e042d370-3e06-4706-aea2-165c8f60b74e",
   "metadata": {},
   "outputs": [],
   "source": []
  }
 ],
 "metadata": {
  "kernelspec": {
   "display_name": "Python 3 (ipykernel)",
   "language": "python",
   "name": "python3"
  },
  "language_info": {
   "codemirror_mode": {
    "name": "ipython",
    "version": 3
   },
   "file_extension": ".py",
   "mimetype": "text/x-python",
   "name": "python",
   "nbconvert_exporter": "python",
   "pygments_lexer": "ipython3",
   "version": "3.12.7"
  }
 },
 "nbformat": 4,
 "nbformat_minor": 5
}
