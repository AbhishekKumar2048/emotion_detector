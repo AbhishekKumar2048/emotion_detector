{
 "cells": [
  {
   "cell_type": "code",
   "execution_count": 1,
   "id": "9c2bc43f-8333-4fe1-95db-9bb7bd25945e",
   "metadata": {},
   "outputs": [
    {
     "name": "stdout",
     "output_type": "stream",
     "text": [
      "WARNING:tensorflow:From C:\\Users\\kabhi\\AppData\\Local\\Programs\\Python\\Python312\\Lib\\site-packages\\tf_keras\\src\\losses.py:2976: The name tf.losses.sparse_softmax_cross_entropy is deprecated. Please use tf.compat.v1.losses.sparse_softmax_cross_entropy instead.\n",
      "\n",
      "WARNING:tensorflow:From C:\\Users\\kabhi\\AppData\\Local\\Programs\\Python\\Python312\\Lib\\site-packages\\tf_keras\\src\\backend.py:873: The name tf.get_default_graph is deprecated. Please use tf.compat.v1.get_default_graph instead.\n",
      "\n"
     ]
    },
    {
     "name": "stderr",
     "output_type": "stream",
     "text": [
      "TensorFlow and JAX classes are deprecated and will be removed in Transformers v5. We recommend migrating to PyTorch classes or pinning your version of Transformers.\n",
      "All PyTorch model weights were used when initializing TFViTModel.\n",
      "\n",
      "All the weights of TFViTModel were initialized from the PyTorch model.\n",
      "If your task is similar to the task the model of the checkpoint was trained on, you can already use TFViTModel for predictions without further training.\n"
     ]
    },
    {
     "name": "stdout",
     "output_type": "stream",
     "text": [
      "WARNING:tensorflow:From C:\\Users\\kabhi\\AppData\\Local\\Programs\\Python\\Python312\\Lib\\site-packages\\keras\\src\\backend\\tensorflow\\core.py:219: The name tf.placeholder is deprecated. Please use tf.compat.v1.placeholder instead.\n",
      "\n"
     ]
    }
   ],
   "source": [
    "from fastapi import FastAPI, UploadFile, File, HTTPException, Request\n",
    "from fastapi.responses import HTMLResponse, JSONResponse\n",
    "from fastapi.staticfiles import StaticFiles\n",
    "from fastapi.templating import Jinja2Templates\n",
    "from PIL import Image\n",
    "import numpy as np\n",
    "import tensorflow as tf\n",
    "import io\n",
    "\n",
    "import tensorflow as tf\n",
    "from keras.utils import image_dataset_from_directory as dfd\n",
    "import matplotlib.pyplot as plt\n",
    "import numpy as np\n",
    "import pickle\n",
    "import pandas as pd\n",
    "import tensorflow as tf\n",
    "import tensorflow as tf\n",
    "from keras.utils import image_dataset_from_directory as dfd\n",
    "import matplotlib.pyplot as plt\n",
    "import numpy as np\n",
    "import pickle\n",
    "import pandas as pd\n",
    "import tensorflow as tf\n",
    "from tensorflow.keras.layers import Layer\n",
    "from tensorflow.keras.models import Model\n",
    "\n",
    "import torch\n",
    "\n",
    "import torch\n",
    "\n",
    "from tensorflow.keras.layers import Layer\n",
    "from tensorflow.keras.models import Model\n",
    "\n",
    "from transformers import TFViTModel\n",
    "vit_model = TFViTModel.from_pretrained(\"google/vit-base-patch16-224-in21k\")\n",
    "\n",
    "from keras.saving import register_keras_serializable\n",
    "@register_keras_serializable()\n",
    "def vit_forward(pixel_values):\n",
    "    return vit_model(pixel_values=pixel_values)[0]\n",
    "\n",
    "# Load model\n",
    "model=tf.keras.models.load_model('vit_wandb_final.keras', custom_objects={'vit_forward': vit_forward})\n",
    "# Define class labels\n",
    "class_labels = ['angry', 'happy', 'sad', 'nothing']\n",
    "\n",
    "# Initialize FastAPI\n",
    "app = FastAPI()\n",
    "\n",
    "\n"
   ]
  },
  {
   "cell_type": "code",
   "execution_count": null,
   "id": "3d29bc40-c71d-476e-ae8c-36b064c9e4b7",
   "metadata": {},
   "outputs": [],
   "source": [
    "from pydantic import BaseModel\n",
    "\n",
    "import cv2\n",
    "test_image=cv2.imread(\"E:/projects/emotion/temp.jpeg\")\n",
    "test_image=cv2.resize(test_image,(224,224))\n",
    "print(test_image)"
   ]
  },
  {
   "cell_type": "code",
   "execution_count": null,
   "id": "95b90601-8da0-4bd1-b41b-a86e425147d8",
   "metadata": {},
   "outputs": [],
   "source": [
    "class request_body(BaseModel):\n",
    "    image"
   ]
  },
  {
   "cell_type": "code",
   "execution_count": null,
   "id": "2e5c1b1f-55d6-4d3a-bdfa-b6b895e2ccf5",
   "metadata": {},
   "outputs": [],
   "source": [
    "@app.post('/predict')\n",
    "def predict(data : request_body):\n",
    "    test_data = data\n",
    "    class_idx = model.predict(test_data)\n",
    "    return { 'class' : class_idx}"
   ]
  },
  {
   "cell_type": "code",
   "execution_count": 2,
   "id": "ac9671ad-6945-473a-805c-449238058def",
   "metadata": {},
   "outputs": [],
   "source": [
    "import nest_asyncio\n",
    "import uvicorn\n",
    "\n",
    "# Patch asyncio to allow nested loops\n",
    "nest_asyncio.apply()"
   ]
  },
  {
   "cell_type": "code",
   "execution_count": null,
   "id": "8536e034-8769-476e-a04b-d85b811d8e67",
   "metadata": {},
   "outputs": [
    {
     "name": "stderr",
     "output_type": "stream",
     "text": [
      "INFO:     Started server process [9776]\n",
      "INFO:     Waiting for application startup.\n",
      "INFO:     Application startup complete.\n",
      "INFO:     Uvicorn running on http://127.0.0.1:10000 (Press CTRL+C to quit)\n"
     ]
    },
    {
     "name": "stdout",
     "output_type": "stream",
     "text": [
      "INFO:     127.0.0.1:56666 - \"GET / HTTP/1.1\" 200 OK\n",
      "INFO:     127.0.0.1:56666 - \"GET /favicon.ico HTTP/1.1\" 404 Not Found\n",
      "INFO:     127.0.0.1:56670 - \"GET / HTTP/1.1\" 200 OK\n",
      "INFO:     127.0.0.1:56677 - \"GET /docs HTTP/1.1\" 200 OK\n",
      "INFO:     127.0.0.1:56677 - \"GET /openapi.json HTTP/1.1\" 200 OK\n",
      "INFO:     127.0.0.1:56688 - \"GET / HTTP/1.1\" 200 OK\n"
     ]
    }
   ],
   "source": [
    "uvicorn.run(app, host=\"127.0.0.1\", port=10000)"
   ]
  },
  {
   "cell_type": "code",
   "execution_count": null,
   "id": "e042d370-3e06-4706-aea2-165c8f60b74e",
   "metadata": {},
   "outputs": [],
   "source": []
  }
 ],
 "metadata": {
  "kernelspec": {
   "display_name": "Python 3 (ipykernel)",
   "language": "python",
   "name": "python3"
  },
  "language_info": {
   "codemirror_mode": {
    "name": "ipython",
    "version": 3
   },
   "file_extension": ".py",
   "mimetype": "text/x-python",
   "name": "python",
   "nbconvert_exporter": "python",
   "pygments_lexer": "ipython3",
   "version": "3.12.7"
  }
 },
 "nbformat": 4,
 "nbformat_minor": 5
}
